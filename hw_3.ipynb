{
 "cells": [
  {
   "cell_type": "markdown",
   "metadata": {},
   "source": [
    "# Import needed packages"
   ]
  },
  {
   "cell_type": "code",
   "execution_count": null,
   "metadata": {},
   "outputs": [],
   "source": [
    "import numpy as np\n",
    "import matplotlib.pyplot as plt\n",
    "%matplotlib inline"
   ]
  },
  {
   "cell_type": "markdown",
   "metadata": {},
   "source": [
    "# Function given by assignment"
   ]
  },
  {
   "cell_type": "code",
   "execution_count": null,
   "metadata": {},
   "outputs": [],
   "source": [
    "def f(x):\n",
    "    a = 1.01\n",
    "    b = -3.04\n",
    "    c = 2.07\n",
    "    return a*x**2 + b*x + c"
   ]
  },
  {
   "cell_type": "markdown",
   "metadata": {},
   "source": [
    "# Checking our initial values"
   ]
  },
  {
   "cell_type": "code",
   "execution_count": null,
   "metadata": {},
   "outputs": [],
   "source": [
    "def check_initial_values(f,x_left,x_right,tol):\n",
    "    y_left = f(x_left)                                                  # get our two initial y values\n",
    "    y_right = f(x_right)\n",
    "    \n",
    "    # to make sure there is a zero between them, one has to be negative\n",
    "    # while the other is positive. In other words, y_left*y_right<0\n",
    "    # so now we will go weed out the ones that are wrong\n",
    "    if (y_left*y_right > tol):                                          # check if there are no zeroes\n",
    "        print('No zeroes found in the range [{},{}]'\n",
    "              .format(x_left,x_right))\n",
    "        print('f({}) = {:.2e}, f({}) = {:.2e}'\n",
    "              .format(x_left,y_left,x_right,y_right))\n",
    "        return 0                                                        # flag 0 represents no zeroes found\n",
    "    \n",
    "    if (np.fabs(y_left)<tol):                                           # check if y_left is zero (up to a tolerance)\n",
    "        print('{} is already a root!'.format(x_left))\n",
    "        return 1                                                        # flag 1 represents x_left is a zero\n",
    "    \n",
    "    if (np.fabs(y_right)<tol):                                          # check if y_right is zero (up to a tolerance)\n",
    "        print('{} is already a root!'.format(x_right))\n",
    "        return 2                                                        # flag 2 represents x_right is a zero\n",
    "                                                                           \n",
    "    return 3                                                            # flag 3 represents that y_left*y_right<0\n",
    "                                                                        # note: this doesn't check if there is only\n",
    "                                                                        # one zero between, just that there is at\n",
    "                                                                        # at least one zero."
   ]
  },
  {
   "cell_type": "markdown",
   "metadata": {},
   "source": [
    "# Start Bisection Loop"
   ]
  },
  {
   "cell_type": "code",
   "execution_count": null,
   "metadata": {},
   "outputs": [],
   "source": [
    "def bisection_root_finding(f,x_l,x_r,tol,quiet=False):           # use bisection search to find root\n",
    "    x_left = x_l\n",
    "    x_right = x_r\n",
    "    i_max = 10000                                                       # max number of iterations, used to avoid infinite loops\n",
    "    i = 0                                                               # set iteration count to 0\n",
    "    \n",
    "    flag = check_initial_values(f,x_left,x_right,tol)                   # use previous function to check initial values\n",
    "    \n",
    "    assert flag!=0, 'No zero found in bounds given'                     # check flags\n",
    "    assert flag!=1, 'Lucky guess! {} is already a zero'.format(x_left)\n",
    "    assert flag!=2, 'Lucky guess! {} is already a zero'.format(x_right)\n",
    "    assert flag==3, 'This should never be triggered'\n",
    "    \n",
    "    searching = True                                                    # start searching\n",
    "    \n",
    "    if not quiet:\n",
    "        print('{0:^16}{1:^20}{2:^20}'                                   # header for printed table\n",
    "              .format('Iteration','Left Point','Right Point'))\n",
    "    while(searching):\n",
    "        if not quiet:\n",
    "            print('{0:^16}{1:^20}{2:^20}'                               # print current iteration into table\n",
    "                  .format(i,'({:.4f},{:.2e})'.format(x_left,f(x_left))\n",
    "                          ,'({:.4f},{:.2e})'.format(x_right,f(x_right))))\n",
    "        x_mid = (x_left + x_right)/2                                    # find the midpoint between the left and right\n",
    "        y_mid = f(x_mid)                                                # evaluate function at midpoint\n",
    "        \n",
    "        if np.fabs(y_mid)<tol:\n",
    "            searching=False                                             # stop searching if y_mid is within our tol of zero\n",
    "        else:                                                           # if y_mid is not yet a zero\n",
    "            if f(x_left)*f(x_mid)>0:                                    # if there is not a zero between x_left and x_mid\n",
    "                x_left = x_mid                                          # replace x_left with x_mid\n",
    "            if f(x_right)*f(x_mid)>0:                                   # same but for x_right\n",
    "                x_right = x_mid\n",
    "        i += 1                                                          # move to next iteration\n",
    "        assert i<=i_max,'Exceeded set max number of iterations: {}'.format(i_max)\n",
    "    y_mid=f(x_mid)                                                      # set output values\n",
    "    y_l=f(x_l)\n",
    "    y_r=f(x_r)\n",
    "    return np.array([x_mid,x_l,x_r]),np.array([y_mid,y_l,y_r])          # output the zero plus the inputs for graphing purposes"
   ]
  },
  {
   "cell_type": "markdown",
   "metadata": {},
   "source": [
    "# Perform the search"
   ]
  },
  {
   "cell_type": "code",
   "execution_count": null,
   "metadata": {},
   "outputs": [],
   "source": [
    "x_left1 = 0.5                                                           # choose two values that enclose a zero, done by eye\n",
    "x_right1 = 1.25\n",
    "tolerance = 1e-6                                                        # we can't get exactly zero, but +-tolerance\n",
    "                                                                        # should be close enough\n",
    "x_root1,y_root1 = bisection_root_finding(f,x_left1,x_right1,tolerance)  # find the root\n",
    "\n",
    "print()\n",
    "print ('Root found: f({}) = {}'.format(x_root1[0],y_root1[0]))          # recall the first element in the output array is the root"
   ]
  },
  {
   "cell_type": "code",
   "execution_count": null,
   "metadata": {},
   "outputs": [],
   "source": [
    "x_left2 = 1.75\n",
    "x_right2 = 2.5\n",
    "tolerance = 1e-6\n",
    "\n",
    "x_root2,y_root2 = bisection_root_finding(f,x_left2,x_right2,tolerance)\n",
    "\n",
    "print()\n",
    "print ('Root found: f({}) = {}'.format(x_root2[0],y_root2[0]))"
   ]
  },
  {
   "cell_type": "markdown",
   "metadata": {},
   "source": [
    "## It took 14 itterations to find the first root and 17 to find the second."
   ]
  },
  {
   "cell_type": "markdown",
   "metadata": {},
   "source": [
    "# Plot the graph"
   ]
  },
  {
   "cell_type": "code",
   "execution_count": null,
   "metadata": {},
   "outputs": [],
   "source": [
    "plt.figure(figsize=(7,7))                                                # make it a nice plot size\n",
    "\n",
    "x = np.linspace(0,3,1000)                                                # matches assignment, [0,3] with 1000 points\n",
    "\n",
    "plt.plot(x,f(x),label=r'$f(x) = 1.01x^2-3.04x+2.07$',c='k')              # plot function\n",
    "plt.axhline(0,ls='dashed',label='y = 0',c='k')                           # plot horizontal line at zero\n",
    "\n",
    "plt.plot(x_root1[1:],y_root1[1:],ls='none',marker='o'                    # plot the bracket around the first root\n",
    "         ,label='Bracket for root 1',c='r')        \n",
    "plt.plot(x_root1[0],y_root1[0],ls='none',marker='o'                      # plot the first root\n",
    "         ,label='Root 1: ({:.3f} , 0)'.format(x_root1[0]),c='#FF4500')\n",
    "\n",
    "plt.plot(x_root2[1:3],y_root2[1:3],ls='none',marker='o'                  # plot the bracket around the second root\n",
    "         ,label='Bracket for root 2',c='b')\n",
    "plt.plot(x_root2[0],y_root2[0],ls='none',marker='o'                      # plot the second root\n",
    "         ,label='Root 2: ({:.3f} , 0)'.format(x_root2[0]),c='#6699cc')\n",
    "\n",
    "plt.xlim(0,3)                                                            # xlim and ylim set by assignment\n",
    "plt.ylim(-.5,2.1)\n",
    "plt.legend(loc=1,frameon=False)                                          # plot legend\n",
    "plt.show()"
   ]
  },
  {
   "cell_type": "code",
   "execution_count": null,
   "metadata": {},
   "outputs": [],
   "source": []
  }
 ],
 "metadata": {
  "kernelspec": {
   "display_name": "Python 3",
   "language": "python",
   "name": "python3"
  },
  "language_info": {
   "codemirror_mode": {
    "name": "ipython",
    "version": 3
   },
   "file_extension": ".py",
   "mimetype": "text/x-python",
   "name": "python",
   "nbconvert_exporter": "python",
   "pygments_lexer": "ipython3",
   "version": "3.6.5"
  }
 },
 "nbformat": 4,
 "nbformat_minor": 2
}
